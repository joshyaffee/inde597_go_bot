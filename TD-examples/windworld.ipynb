{
 "cells": [
  {
   "cell_type": "code",
   "execution_count": 2,
   "metadata": {},
   "outputs": [],
   "source": [
    "import random\n",
    "import seaborn as sns\n",
    "import matplotlib.pyplot as plt\n",
    "import numpy as np\n",
    "import tqdm"
   ]
  },
  {
   "cell_type": "code",
   "execution_count": 3,
   "metadata": {},
   "outputs": [],
   "source": [
    "class Env():\n",
    "\n",
    "    def __init__(self):\n",
    "        self.wind = [0, 0, 0, 1, 1, 1, 2, 2, 1, 0]\n",
    "        self.actions = [\"RIGHT\", \"DOWN\", \"LEFT\", \"UP\"]\n",
    "        self.max_x = 9\n",
    "        self.max_y = 6\n",
    "        self.start = [0, 3]\n",
    "        self.goal = [7, 3]\n",
    "        self.current = self.start\n",
    "\n",
    "    def step(self, action):\n",
    "\n",
    "        self.current[1] += self.wind[self.current[0]]\n",
    "\n",
    "        if action == \"LEFT\":\n",
    "            self.current[0] -= 1\n",
    "        elif action == \"RIGHT\":\n",
    "            self.current[0] += 1\n",
    "        elif action == \"UP\":\n",
    "            self.current[1] += 1\n",
    "        elif action == \"DOWN\":\n",
    "            self.current[1] -= 1\n",
    "        else:\n",
    "            raise ValueError(\"Invalid action\")\n",
    "        \n",
    "        if self.current[0] < 0:\n",
    "            self.current[0] = 0\n",
    "        elif self.current[0] > self.max_x:\n",
    "            self.current[0] = self.max_x\n",
    "    \n",
    "        if self.current[1] < 0:\n",
    "            self.current[1] = 0\n",
    "        elif self.current[1] > self.max_y:\n",
    "            self.current[1] = self.max_y\n",
    "\n",
    "        if self.current == self.goal:\n",
    "            return self.current, 0, True\n",
    "        else:\n",
    "            return self.current, -1, False\n",
    "        \n",
    "    def reset(self, state = None):\n",
    "        if state is not None:\n",
    "            self.current = state\n",
    "        else:\n",
    "            self.current = self.start\n",
    "        return self.current\n",
    "    \n",
    "    def render(self):\n",
    "        for y in range(self.max_y, -1, -1):\n",
    "            for x in range(self.max_x + 1):\n",
    "                if [x, y] == self.current:\n",
    "                    print(\"X\", end = \" \")\n",
    "                elif [x, y] == self.start:\n",
    "                    print(\"S\", end = \" \")\n",
    "                elif [x, y] == self.goal:\n",
    "                    print(\"G\", end = \" \")\n",
    "                else:\n",
    "                    print(\".\", end = \" \")\n",
    "            print()\n",
    "        for x in range(self.max_x + 1):\n",
    "            print(self.wind[x], end = \" \")\n",
    "        print()"
   ]
  },
  {
   "cell_type": "code",
   "execution_count": 4,
   "metadata": {},
   "outputs": [],
   "source": [
    "# e = Env()\n",
    "# while True:\n",
    "#     e.render()\n",
    "#     action = input(\"action: \")\n",
    "#     next_state, reward, done = e.step(action)\n",
    "#     if done:\n",
    "#         break\n",
    "# e.render()\n"
   ]
  },
  {
   "cell_type": "code",
   "execution_count": 26,
   "metadata": {},
   "outputs": [],
   "source": [
    "class Agent():\n",
    "    \"\"\"\n",
    "    epsilon-greedy Sarsa to\n",
    "    this task, with epsilon=0.1, alpha=0.5,\n",
    "    and the initial values Q(s,a)=0\n",
    "    for all s,a.\n",
    "    \"\"\"\n",
    "    \n",
    "    def __init__(self, env):\n",
    "        self.env = env\n",
    "        self.init_Q()\n",
    "        self.gamma = .99\n",
    "\n",
    "    def init_Q(self):\n",
    "        self.Q = {}\n",
    "        for action in self.env.actions:\n",
    "            for x in range(self.env.max_x + 1):\n",
    "                for y in range(self.env.max_y + 1):\n",
    "                    self.Q[(x, y, action)] = .5\n",
    "            self.Q[(self.env.goal[0], self.env.goal[1], action)] = 0\n",
    "    \n",
    "    def epsilon_greedy_policy(self, state, epsilon):\n",
    "        # if it is a tie, random choice\n",
    "        if random.random() < epsilon:\n",
    "            return random.choice(self.env.actions)\n",
    "        elif self.Q[(state[0], state[1], \"LEFT\")] == self.Q[(state[0], state[1], \"RIGHT\")] == self.Q[(state[0], state[1], \"UP\")] == self.Q[(state[0], state[1], \"DOWN\")]:\n",
    "                return random.choice(self.env.actions)\n",
    "        return max(self.env.actions, key = lambda action: self.Q[(state[0], state[1], action)])\n",
    "        \n",
    "    def sarsa(self, num_episodes = 170, alpha = 0.5, epsilon = 0.9):\n",
    "        time_steps = []\n",
    "        ts = 0\n",
    "        episodes = []\n",
    "        for episode in tqdm.tqdm(range(num_episodes), desc = \"Training\"):\n",
    "            episodes.append(episode)\n",
    "            time_steps.append(ts)\n",
    "            epsilon /= 1.1\n",
    "            state = self.env.reset()\n",
    "            while state != self.env.goal:\n",
    "                action = self.epsilon_greedy_policy(state, epsilon)\n",
    "                next_state, reward, done = self.env.step(action)\n",
    "                next_action = self.epsilon_greedy_policy(next_state, epsilon)\n",
    "                self.Q[(state[0], state[1], action)] += alpha * (reward + self.gamma * self.Q[(next_state[0], next_state[1], next_action)] - self.Q[(state[0], state[1], action)])\n",
    "                state = next_state\n",
    "                action = next_action\n",
    "                ts += 1\n",
    "\n",
    "        return episodes, time_steps    \n",
    "\n",
    "    def train(self, num_episodes = 170):\n",
    "        episodes, time_steps = self.sarsa(num_episodes)\n",
    "        self.disp()\n",
    "        \n",
    "        # plot\n",
    "        sns.lineplot(x = time_steps, y = episodes)\n",
    "        plt.xlabel(\"Time Steps\")\n",
    "        plt.ylabel(\"Episodes\")\n",
    "        plt.title(\"Sarsa\")\n",
    "        plt.show()\n",
    "    \n",
    "    def play(self):\n",
    "        state = self.env.reset()\n",
    "        _return = 0\n",
    "        while state != self.env.goal:\n",
    "            action = max(self.env.actions, key = lambda action: self.Q[(state[0], state[1], action)])\n",
    "            state, r, _ = self.env.step(action)\n",
    "            _return += r\n",
    "            self.env.render()\n",
    "        print(f\"\\nReturn: {_return}\")    \n",
    "\n",
    "    def disp(self):\n",
    "        \"\"\"display the agent's policy with unicode arrows\"\"\"\n",
    "        for y in range(self.env.max_y, -1, -1):\n",
    "            for x in range(self.env.max_x + 1):\n",
    "                if [x, y] == self.env.goal:\n",
    "                    print(\"G\", end = \" \")\n",
    "                else:\n",
    "                    # if there's a tie, show all actions\n",
    "                    if self.Q[(x, y, \"LEFT\")] == self.Q[(x, y, \"RIGHT\")] == self.Q[(x, y, \"UP\")] == self.Q[(x, y, \"DOWN\")]:\n",
    "                        print(\"?\", end = \" \")\n",
    "                    else:\n",
    "                        action = max(self.env.actions, key = lambda action: self.Q[(x, y, action)])\n",
    "                        if action == \"LEFT\":\n",
    "                            print(\"←\", end = \" \")\n",
    "                        elif action == \"RIGHT\":\n",
    "                            print(\"→\", end = \" \")\n",
    "                        elif action == \"UP\":\n",
    "                            print(\"↑\", end = \" \")\n",
    "                        elif action == \"DOWN\":\n",
    "                            print(\"↓\", end = \" \") \n",
    "            print()  \n",
    "        print() "
   ]
  },
  {
   "cell_type": "code",
   "execution_count": 27,
   "metadata": {},
   "outputs": [
    {
     "name": "stderr",
     "output_type": "stream",
     "text": [
      "Training: 100%|██████████| 170/170 [00:01<00:00, 110.83it/s]\n"
     ]
    },
    {
     "name": "stdout",
     "output_type": "stream",
     "text": [
      "→ ↓ ↓ → → ↓ ← → ↑ ↓ \n",
      "→ ← ← ← ← ← ↓ → → ← \n",
      "→ ↑ ↑ ↑ ↑ ↓ ↓ → → ← \n",
      "→ ← ← ← ← ← ? G → ← \n",
      "→ ↑ ↑ ← ← ? ? → → ← \n",
      "→ ↑ ← ← ← ? ? ? → ← \n",
      "→ ↑ ← ← ? ? ? ? ? ? \n",
      "\n"
     ]
    },
    {
     "data": {
      "image/png": "[encoded data removed]",
      "text/plain": [
       "<Figure size 432x288 with 1 Axes>"
      ]
     },
     "metadata": {
      "needs_background": "light"
     },
     "output_type": "display_data"
    }
   ],
   "source": [
    "env = Env()\n",
    "agent = Agent(env)\n",
    "agent.train()\n"
   ]
  },
  {
   "cell_type": "code",
   "execution_count": null,
   "metadata": {},
   "outputs": [
    {
     "name": "stdout",
     "output_type": "stream",
     "text": [
      "\n",
      "Return: 0\n"
     ]
    }
   ],
   "source": [
    "agent.play()"
   ]
  }
 ],
 "metadata": {
  "kernelspec": {
   "display_name": "Python 3",
   "language": "python",
   "name": "python3"
  },
  "language_info": {
   "codemirror_mode": {
    "name": "ipython",
    "version": 3
   },
   "file_extension": ".py",
   "mimetype": "text/x-python",
   "name": "python",
   "nbconvert_exporter": "python",
   "pygments_lexer": "ipython3",
   "version": "3.10.1"
  }
 },
 "nbformat": 4,
 "nbformat_minor": 2
}
